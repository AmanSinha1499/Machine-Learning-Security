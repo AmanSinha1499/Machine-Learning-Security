{
  "nbformat": 4,
  "nbformat_minor": 0,
  "metadata": {
    "colab": {
      "provenance": []
    },
    "kernelspec": {
      "name": "python3",
      "display_name": "Python 3"
    },
    "language_info": {
      "name": "python"
    }
  },
  "cells": [
    {
      "cell_type": "code",
      "execution_count": 51,
      "metadata": {
        "id": "WmGmlAi1y7Xo"
      },
      "outputs": [],
      "source": [
        "import numpy as np \n",
        "import pandas as pd\n",
        "import pickle\n",
        "import seaborn as sns\n",
        "import matplotlib.pyplot as plt\n",
        "\n",
        "import os\n",
        "\n",
        "plt.style.use('ggplot')\n"
      ]
    },
    {
      "cell_type": "code",
      "source": [
        "url = 'https://raw.githubusercontent.com/vishesh008/Malware-Detection-Using-Machine-Learning/main/dataset_malwares.csv'\n",
        "data = pd.read_csv(url)\n",
        "data.head()\n",
        "\n"
      ],
      "metadata": {
        "colab": {
          "base_uri": "https://localhost:8080/",
          "height": 300
        },
        "id": "AlJ7okEhz6ok",
        "outputId": "cc96cd6c-07ab-4986-d765-c1afb491f52e"
      },
      "execution_count": 52,
      "outputs": [
        {
          "output_type": "execute_result",
          "data": {
            "text/plain": [
              "                                          Name  e_magic  e_cblp  e_cp  e_crlc  \\\n",
              "0  VirusShare_a878ba26000edaac5c98eff4432723b3    23117     144     3       0   \n",
              "1  VirusShare_ef9130570fddc174b312b2047f5f4cf0    23117     144     3       0   \n",
              "2  VirusShare_ef84cdeba22be72a69b198213dada81a    23117     144     3       0   \n",
              "3  VirusShare_6bf3608e60ebc16cbcff6ed5467d469e    23117     144     3       0   \n",
              "4  VirusShare_2cc94d952b2efb13c7d6bbe0dd59d3fb    23117     144     3       0   \n",
              "\n",
              "   e_cparhdr  e_minalloc  e_maxalloc  e_ss  e_sp  ...  SectionMaxChar  \\\n",
              "0          4           0       65535     0   184  ...      3758096608   \n",
              "1          4           0       65535     0   184  ...      3791650880   \n",
              "2          4           0       65535     0   184  ...      3221225536   \n",
              "3          4           0       65535     0   184  ...      3224371328   \n",
              "4          4           0       65535     0   184  ...      3227516992   \n",
              "\n",
              "   SectionMainChar  DirectoryEntryImport  DirectoryEntryImportSize  \\\n",
              "0                0                     7                       152   \n",
              "1                0                    16                       311   \n",
              "2                0                     6                       176   \n",
              "3                0                     8                       155   \n",
              "4                0                     2                        43   \n",
              "\n",
              "   DirectoryEntryExport  ImageDirectoryEntryExport  ImageDirectoryEntryImport  \\\n",
              "0                     0                          0                      54440   \n",
              "1                     0                          0                     262276   \n",
              "2                     0                          0                      36864   \n",
              "3                     0                          0                     356352   \n",
              "4                     0                          0                      61440   \n",
              "\n",
              "   ImageDirectoryEntryResource  ImageDirectoryEntryException  \\\n",
              "0                        77824                         73728   \n",
              "1                       294912                             0   \n",
              "2                        40960                             0   \n",
              "3                      1003520                             0   \n",
              "4                        73728                             0   \n",
              "\n",
              "   ImageDirectoryEntrySecurity  \n",
              "0                            0  \n",
              "1                       346112  \n",
              "2                            0  \n",
              "3                     14109472  \n",
              "4                        90624  \n",
              "\n",
              "[5 rows x 79 columns]"
            ],
            "text/html": [
              "\n",
              "  <div id=\"df-b8c63b4a-cbbe-44e7-bc83-4f111ddaee65\">\n",
              "    <div class=\"colab-df-container\">\n",
              "      <div>\n",
              "<style scoped>\n",
              "    .dataframe tbody tr th:only-of-type {\n",
              "        vertical-align: middle;\n",
              "    }\n",
              "\n",
              "    .dataframe tbody tr th {\n",
              "        vertical-align: top;\n",
              "    }\n",
              "\n",
              "    .dataframe thead th {\n",
              "        text-align: right;\n",
              "    }\n",
              "</style>\n",
              "<table border=\"1\" class=\"dataframe\">\n",
              "  <thead>\n",
              "    <tr style=\"text-align: right;\">\n",
              "      <th></th>\n",
              "      <th>Name</th>\n",
              "      <th>e_magic</th>\n",
              "      <th>e_cblp</th>\n",
              "      <th>e_cp</th>\n",
              "      <th>e_crlc</th>\n",
              "      <th>e_cparhdr</th>\n",
              "      <th>e_minalloc</th>\n",
              "      <th>e_maxalloc</th>\n",
              "      <th>e_ss</th>\n",
              "      <th>e_sp</th>\n",
              "      <th>...</th>\n",
              "      <th>SectionMaxChar</th>\n",
              "      <th>SectionMainChar</th>\n",
              "      <th>DirectoryEntryImport</th>\n",
              "      <th>DirectoryEntryImportSize</th>\n",
              "      <th>DirectoryEntryExport</th>\n",
              "      <th>ImageDirectoryEntryExport</th>\n",
              "      <th>ImageDirectoryEntryImport</th>\n",
              "      <th>ImageDirectoryEntryResource</th>\n",
              "      <th>ImageDirectoryEntryException</th>\n",
              "      <th>ImageDirectoryEntrySecurity</th>\n",
              "    </tr>\n",
              "  </thead>\n",
              "  <tbody>\n",
              "    <tr>\n",
              "      <th>0</th>\n",
              "      <td>VirusShare_a878ba26000edaac5c98eff4432723b3</td>\n",
              "      <td>23117</td>\n",
              "      <td>144</td>\n",
              "      <td>3</td>\n",
              "      <td>0</td>\n",
              "      <td>4</td>\n",
              "      <td>0</td>\n",
              "      <td>65535</td>\n",
              "      <td>0</td>\n",
              "      <td>184</td>\n",
              "      <td>...</td>\n",
              "      <td>3758096608</td>\n",
              "      <td>0</td>\n",
              "      <td>7</td>\n",
              "      <td>152</td>\n",
              "      <td>0</td>\n",
              "      <td>0</td>\n",
              "      <td>54440</td>\n",
              "      <td>77824</td>\n",
              "      <td>73728</td>\n",
              "      <td>0</td>\n",
              "    </tr>\n",
              "    <tr>\n",
              "      <th>1</th>\n",
              "      <td>VirusShare_ef9130570fddc174b312b2047f5f4cf0</td>\n",
              "      <td>23117</td>\n",
              "      <td>144</td>\n",
              "      <td>3</td>\n",
              "      <td>0</td>\n",
              "      <td>4</td>\n",
              "      <td>0</td>\n",
              "      <td>65535</td>\n",
              "      <td>0</td>\n",
              "      <td>184</td>\n",
              "      <td>...</td>\n",
              "      <td>3791650880</td>\n",
              "      <td>0</td>\n",
              "      <td>16</td>\n",
              "      <td>311</td>\n",
              "      <td>0</td>\n",
              "      <td>0</td>\n",
              "      <td>262276</td>\n",
              "      <td>294912</td>\n",
              "      <td>0</td>\n",
              "      <td>346112</td>\n",
              "    </tr>\n",
              "    <tr>\n",
              "      <th>2</th>\n",
              "      <td>VirusShare_ef84cdeba22be72a69b198213dada81a</td>\n",
              "      <td>23117</td>\n",
              "      <td>144</td>\n",
              "      <td>3</td>\n",
              "      <td>0</td>\n",
              "      <td>4</td>\n",
              "      <td>0</td>\n",
              "      <td>65535</td>\n",
              "      <td>0</td>\n",
              "      <td>184</td>\n",
              "      <td>...</td>\n",
              "      <td>3221225536</td>\n",
              "      <td>0</td>\n",
              "      <td>6</td>\n",
              "      <td>176</td>\n",
              "      <td>0</td>\n",
              "      <td>0</td>\n",
              "      <td>36864</td>\n",
              "      <td>40960</td>\n",
              "      <td>0</td>\n",
              "      <td>0</td>\n",
              "    </tr>\n",
              "    <tr>\n",
              "      <th>3</th>\n",
              "      <td>VirusShare_6bf3608e60ebc16cbcff6ed5467d469e</td>\n",
              "      <td>23117</td>\n",
              "      <td>144</td>\n",
              "      <td>3</td>\n",
              "      <td>0</td>\n",
              "      <td>4</td>\n",
              "      <td>0</td>\n",
              "      <td>65535</td>\n",
              "      <td>0</td>\n",
              "      <td>184</td>\n",
              "      <td>...</td>\n",
              "      <td>3224371328</td>\n",
              "      <td>0</td>\n",
              "      <td>8</td>\n",
              "      <td>155</td>\n",
              "      <td>0</td>\n",
              "      <td>0</td>\n",
              "      <td>356352</td>\n",
              "      <td>1003520</td>\n",
              "      <td>0</td>\n",
              "      <td>14109472</td>\n",
              "    </tr>\n",
              "    <tr>\n",
              "      <th>4</th>\n",
              "      <td>VirusShare_2cc94d952b2efb13c7d6bbe0dd59d3fb</td>\n",
              "      <td>23117</td>\n",
              "      <td>144</td>\n",
              "      <td>3</td>\n",
              "      <td>0</td>\n",
              "      <td>4</td>\n",
              "      <td>0</td>\n",
              "      <td>65535</td>\n",
              "      <td>0</td>\n",
              "      <td>184</td>\n",
              "      <td>...</td>\n",
              "      <td>3227516992</td>\n",
              "      <td>0</td>\n",
              "      <td>2</td>\n",
              "      <td>43</td>\n",
              "      <td>0</td>\n",
              "      <td>0</td>\n",
              "      <td>61440</td>\n",
              "      <td>73728</td>\n",
              "      <td>0</td>\n",
              "      <td>90624</td>\n",
              "    </tr>\n",
              "  </tbody>\n",
              "</table>\n",
              "<p>5 rows × 79 columns</p>\n",
              "</div>\n",
              "      <button class=\"colab-df-convert\" onclick=\"convertToInteractive('df-b8c63b4a-cbbe-44e7-bc83-4f111ddaee65')\"\n",
              "              title=\"Convert this dataframe to an interactive table.\"\n",
              "              style=\"display:none;\">\n",
              "        \n",
              "  <svg xmlns=\"http://www.w3.org/2000/svg\" height=\"24px\"viewBox=\"0 0 24 24\"\n",
              "       width=\"24px\">\n",
              "    <path d=\"M0 0h24v24H0V0z\" fill=\"none\"/>\n",
              "    <path d=\"M18.56 5.44l.94 2.06.94-2.06 2.06-.94-2.06-.94-.94-2.06-.94 2.06-2.06.94zm-11 1L8.5 8.5l.94-2.06 2.06-.94-2.06-.94L8.5 2.5l-.94 2.06-2.06.94zm10 10l.94 2.06.94-2.06 2.06-.94-2.06-.94-.94-2.06-.94 2.06-2.06.94z\"/><path d=\"M17.41 7.96l-1.37-1.37c-.4-.4-.92-.59-1.43-.59-.52 0-1.04.2-1.43.59L10.3 9.45l-7.72 7.72c-.78.78-.78 2.05 0 2.83L4 21.41c.39.39.9.59 1.41.59.51 0 1.02-.2 1.41-.59l7.78-7.78 2.81-2.81c.8-.78.8-2.07 0-2.86zM5.41 20L4 18.59l7.72-7.72 1.47 1.35L5.41 20z\"/>\n",
              "  </svg>\n",
              "      </button>\n",
              "      \n",
              "  <style>\n",
              "    .colab-df-container {\n",
              "      display:flex;\n",
              "      flex-wrap:wrap;\n",
              "      gap: 12px;\n",
              "    }\n",
              "\n",
              "    .colab-df-convert {\n",
              "      background-color: #E8F0FE;\n",
              "      border: none;\n",
              "      border-radius: 50%;\n",
              "      cursor: pointer;\n",
              "      display: none;\n",
              "      fill: #1967D2;\n",
              "      height: 32px;\n",
              "      padding: 0 0 0 0;\n",
              "      width: 32px;\n",
              "    }\n",
              "\n",
              "    .colab-df-convert:hover {\n",
              "      background-color: #E2EBFA;\n",
              "      box-shadow: 0px 1px 2px rgba(60, 64, 67, 0.3), 0px 1px 3px 1px rgba(60, 64, 67, 0.15);\n",
              "      fill: #174EA6;\n",
              "    }\n",
              "\n",
              "    [theme=dark] .colab-df-convert {\n",
              "      background-color: #3B4455;\n",
              "      fill: #D2E3FC;\n",
              "    }\n",
              "\n",
              "    [theme=dark] .colab-df-convert:hover {\n",
              "      background-color: #434B5C;\n",
              "      box-shadow: 0px 1px 3px 1px rgba(0, 0, 0, 0.15);\n",
              "      filter: drop-shadow(0px 1px 2px rgba(0, 0, 0, 0.3));\n",
              "      fill: #FFFFFF;\n",
              "    }\n",
              "  </style>\n",
              "\n",
              "      <script>\n",
              "        const buttonEl =\n",
              "          document.querySelector('#df-b8c63b4a-cbbe-44e7-bc83-4f111ddaee65 button.colab-df-convert');\n",
              "        buttonEl.style.display =\n",
              "          google.colab.kernel.accessAllowed ? 'block' : 'none';\n",
              "\n",
              "        async function convertToInteractive(key) {\n",
              "          const element = document.querySelector('#df-b8c63b4a-cbbe-44e7-bc83-4f111ddaee65');\n",
              "          const dataTable =\n",
              "            await google.colab.kernel.invokeFunction('convertToInteractive',\n",
              "                                                     [key], {});\n",
              "          if (!dataTable) return;\n",
              "\n",
              "          const docLinkHtml = 'Like what you see? Visit the ' +\n",
              "            '<a target=\"_blank\" href=https://colab.research.google.com/notebooks/data_table.ipynb>data table notebook</a>'\n",
              "            + ' to learn more about interactive tables.';\n",
              "          element.innerHTML = '';\n",
              "          dataTable['output_type'] = 'display_data';\n",
              "          await google.colab.output.renderOutput(dataTable, element);\n",
              "          const docLink = document.createElement('div');\n",
              "          docLink.innerHTML = docLinkHtml;\n",
              "          element.appendChild(docLink);\n",
              "        }\n",
              "      </script>\n",
              "    </div>\n",
              "  </div>\n",
              "  "
            ]
          },
          "metadata": {},
          "execution_count": 52
        }
      ]
    },
    {
      "cell_type": "markdown",
      "source": [
        "### Data Information\n"
      ],
      "metadata": {
        "id": "peYKAqxPUbvv"
      }
    },
    {
      "cell_type": "code",
      "source": [
        "data.info()"
      ],
      "metadata": {
        "colab": {
          "base_uri": "https://localhost:8080/"
        },
        "id": "22woSYEO5sBO",
        "outputId": "730fe4d3-fb13-4c56-f912-787c09cf627d"
      },
      "execution_count": 53,
      "outputs": [
        {
          "output_type": "stream",
          "name": "stdout",
          "text": [
            "<class 'pandas.core.frame.DataFrame'>\n",
            "RangeIndex: 19611 entries, 0 to 19610\n",
            "Data columns (total 79 columns):\n",
            " #   Column                        Non-Null Count  Dtype  \n",
            "---  ------                        --------------  -----  \n",
            " 0   Name                          19611 non-null  object \n",
            " 1   e_magic                       19611 non-null  int64  \n",
            " 2   e_cblp                        19611 non-null  int64  \n",
            " 3   e_cp                          19611 non-null  int64  \n",
            " 4   e_crlc                        19611 non-null  int64  \n",
            " 5   e_cparhdr                     19611 non-null  int64  \n",
            " 6   e_minalloc                    19611 non-null  int64  \n",
            " 7   e_maxalloc                    19611 non-null  int64  \n",
            " 8   e_ss                          19611 non-null  int64  \n",
            " 9   e_sp                          19611 non-null  int64  \n",
            " 10  e_csum                        19611 non-null  int64  \n",
            " 11  e_ip                          19611 non-null  int64  \n",
            " 12  e_cs                          19611 non-null  int64  \n",
            " 13  e_lfarlc                      19611 non-null  int64  \n",
            " 14  e_ovno                        19611 non-null  int64  \n",
            " 15  e_oemid                       19611 non-null  int64  \n",
            " 16  e_oeminfo                     19611 non-null  int64  \n",
            " 17  e_lfanew                      19611 non-null  int64  \n",
            " 18  Machine                       19611 non-null  int64  \n",
            " 19  NumberOfSections              19611 non-null  int64  \n",
            " 20  TimeDateStamp                 19611 non-null  int64  \n",
            " 21  PointerToSymbolTable          19611 non-null  int64  \n",
            " 22  NumberOfSymbols               19611 non-null  int64  \n",
            " 23  SizeOfOptionalHeader          19611 non-null  int64  \n",
            " 24  Characteristics               19611 non-null  int64  \n",
            " 25  Magic                         19611 non-null  int64  \n",
            " 26  MajorLinkerVersion            19611 non-null  int64  \n",
            " 27  MinorLinkerVersion            19611 non-null  int64  \n",
            " 28  SizeOfCode                    19611 non-null  int64  \n",
            " 29  SizeOfInitializedData         19611 non-null  int64  \n",
            " 30  SizeOfUninitializedData       19611 non-null  int64  \n",
            " 31  AddressOfEntryPoint           19611 non-null  int64  \n",
            " 32  BaseOfCode                    19611 non-null  int64  \n",
            " 33  ImageBase                     19611 non-null  int64  \n",
            " 34  SectionAlignment              19611 non-null  int64  \n",
            " 35  FileAlignment                 19611 non-null  int64  \n",
            " 36  MajorOperatingSystemVersion   19611 non-null  int64  \n",
            " 37  MinorOperatingSystemVersion   19611 non-null  int64  \n",
            " 38  MajorImageVersion             19611 non-null  int64  \n",
            " 39  MinorImageVersion             19611 non-null  int64  \n",
            " 40  MajorSubsystemVersion         19611 non-null  int64  \n",
            " 41  MinorSubsystemVersion         19611 non-null  int64  \n",
            " 42  SizeOfHeaders                 19611 non-null  int64  \n",
            " 43  CheckSum                      19611 non-null  int64  \n",
            " 44  SizeOfImage                   19611 non-null  int64  \n",
            " 45  Subsystem                     19611 non-null  int64  \n",
            " 46  DllCharacteristics            19611 non-null  int64  \n",
            " 47  SizeOfStackReserve            19611 non-null  int64  \n",
            " 48  SizeOfStackCommit             19611 non-null  int64  \n",
            " 49  SizeOfHeapReserve             19611 non-null  int64  \n",
            " 50  SizeOfHeapCommit              19611 non-null  int64  \n",
            " 51  LoaderFlags                   19611 non-null  int64  \n",
            " 52  NumberOfRvaAndSizes           19611 non-null  int64  \n",
            " 53  Malware                       19611 non-null  int64  \n",
            " 54  SuspiciousImportFunctions     19611 non-null  int64  \n",
            " 55  SuspiciousNameSection         19611 non-null  int64  \n",
            " 56  SectionsLength                19611 non-null  int64  \n",
            " 57  SectionMinEntropy             19611 non-null  float64\n",
            " 58  SectionMaxEntropy             19611 non-null  int64  \n",
            " 59  SectionMinRawsize             19611 non-null  int64  \n",
            " 60  SectionMaxRawsize             19611 non-null  int64  \n",
            " 61  SectionMinVirtualsize         19611 non-null  int64  \n",
            " 62  SectionMaxVirtualsize         19611 non-null  int64  \n",
            " 63  SectionMaxPhysical            19611 non-null  int64  \n",
            " 64  SectionMinPhysical            19611 non-null  int64  \n",
            " 65  SectionMaxVirtual             19611 non-null  int64  \n",
            " 66  SectionMinVirtual             19611 non-null  int64  \n",
            " 67  SectionMaxPointerData         19611 non-null  int64  \n",
            " 68  SectionMinPointerData         19611 non-null  int64  \n",
            " 69  SectionMaxChar                19611 non-null  int64  \n",
            " 70  SectionMainChar               19611 non-null  int64  \n",
            " 71  DirectoryEntryImport          19611 non-null  int64  \n",
            " 72  DirectoryEntryImportSize      19611 non-null  int64  \n",
            " 73  DirectoryEntryExport          19611 non-null  int64  \n",
            " 74  ImageDirectoryEntryExport     19611 non-null  int64  \n",
            " 75  ImageDirectoryEntryImport     19611 non-null  int64  \n",
            " 76  ImageDirectoryEntryResource   19611 non-null  int64  \n",
            " 77  ImageDirectoryEntryException  19611 non-null  int64  \n",
            " 78  ImageDirectoryEntrySecurity   19611 non-null  int64  \n",
            "dtypes: float64(1), int64(77), object(1)\n",
            "memory usage: 11.8+ MB\n"
          ]
        }
      ]
    },
    {
      "cell_type": "code",
      "source": [
        "used_data = data.drop(['Name', 'Machine', 'TimeDateStamp', 'Malware'], axis=1)"
      ],
      "metadata": {
        "id": "tn8WlKl-6qZa"
      },
      "execution_count": 54,
      "outputs": []
    },
    {
      "cell_type": "markdown",
      "source": [
        "### **Distribution according to not harmful and harmful(Malware)**"
      ],
      "metadata": {
        "id": "j2jsZEhBUsSK"
      }
    },
    {
      "cell_type": "code",
      "source": [
        "plt.figure(figsize=(8, 6))\n",
        "ax=sns.countplot(data['Malware'])\n",
        "ax.set_xticklabels(['Not Harmful', 'Malware'])"
      ],
      "metadata": {
        "colab": {
          "base_uri": "https://localhost:8080/",
          "height": 463
        },
        "id": "CTV3qKGFUmj8",
        "outputId": "78104cf9-9640-4471-9b3c-1676d374f28d"
      },
      "execution_count": 55,
      "outputs": [
        {
          "output_type": "stream",
          "name": "stderr",
          "text": [
            "/usr/local/lib/python3.7/dist-packages/seaborn/_decorators.py:43: FutureWarning: Pass the following variable as a keyword arg: x. From version 0.12, the only valid positional argument will be `data`, and passing other arguments without an explicit keyword will result in an error or misinterpretation.\n",
            "  FutureWarning\n"
          ]
        },
        {
          "output_type": "execute_result",
          "data": {
            "text/plain": [
              "[Text(0, 0, 'Not Harmful'), Text(0, 0, 'Malware')]"
            ]
          },
          "metadata": {},
          "execution_count": 55
        },
        {
          "output_type": "display_data",
          "data": {
            "text/plain": [
              "<Figure size 576x432 with 1 Axes>"
            ],
            "image/png": "[encoded data removed]"
          },
          "metadata": {}
        }
      ]
    },
    {
      "cell_type": "markdown",
      "source": [
        "Splitting the data into traning and test dataset"
      ],
      "metadata": {
        "id": "ewXsuDKnVu4o"
      }
    },
    {
      "cell_type": "markdown",
      "source": [
        "## **FEATURES SELECTIONS**"
      ],
      "metadata": {
        "id": "wEqVcSYM4uF4"
      }
    },
    {
      "cell_type": "code",
      "source": [
        "from sklearn.feature_selection import SelectFromModel\n",
        "import sklearn.ensemble as ske\n",
        "fsel = ske.ExtraTreesClassifier().fit(used_data, data['Malware'])\n",
        "model = SelectFromModel(fsel, prefit=True)\n",
        "X_new = model.transform(used_data)\n",
        "nb_features = X_new.shape[1]\n",
        "indices = np.argsort(fsel.feature_importances_)[::-1][:nb_features]\n",
        "\n",
        "std = np.std([tree.feature_importances_ for tree in fsel.estimators_],\n",
        "             axis=0)\n",
        "\n",
        "importances = fsel.feature_importances_\n",
        "for f in range(nb_features):\n",
        "    print(\"%d. feature %s (%f)\" % (f + 1, data.columns[2+indices[f]], fsel.feature_importances_[indices[f]]))\n",
        "features = []\n",
        "for f in sorted(np.argsort(fsel.feature_importances_)[::-1][:nb_features]):\n",
        "    features.append(data.columns[2+f])"
      ],
      "metadata": {
        "colab": {
          "base_uri": "https://localhost:8080/"
        },
        "id": "gvjcEw7O3-b1",
        "outputId": "80bfb278-072a-4608-d193-54e3e1f9498c"
      },
      "execution_count": 56,
      "outputs": [
        {
          "output_type": "stream",
          "name": "stderr",
          "text": [
            "/usr/local/lib/python3.7/dist-packages/sklearn/base.py:444: UserWarning: X has feature names, but SelectFromModel was fitted without feature names\n",
            "  f\"X has feature names, but {self.__class__.__name__} was fitted without\"\n"
          ]
        },
        {
          "output_type": "stream",
          "name": "stdout",
          "text": [
            "1. feature SizeOfOptionalHeader (0.144177)\n",
            "2. feature MinorImageVersion (0.119901)\n",
            "3. feature SizeOfImage (0.066887)\n",
            "4. feature SectionMaxPointerData (0.065365)\n",
            "5. feature Subsystem (0.054782)\n",
            "6. feature MajorSubsystemVersion (0.052906)\n",
            "7. feature BaseOfCode (0.049265)\n",
            "8. feature Characteristics (0.039615)\n",
            "9. feature MajorOperatingSystemVersion (0.039223)\n",
            "10. feature FileAlignment (0.037308)\n",
            "11. feature DllCharacteristics (0.024288)\n",
            "12. feature Magic (0.023989)\n",
            "13. feature ImageBase (0.020834)\n",
            "14. feature SectionAlignment (0.019844)\n",
            "15. feature e_ss (0.018111)\n",
            "16. feature NumberOfRvaAndSizes (0.017046)\n",
            "17. feature SectionMaxChar (0.016144)\n",
            "18. feature SuspiciousNameSection (0.015065)\n"
          ]
        }
      ]
    },
    {
      "cell_type": "code",
      "source": [
        "x_train = X_new\n",
        "plt.figure(1, figsize=(14, 13))\n",
        "plt.title(\"Feature importances\")\n",
        "plt.bar(range(x_train.shape[1]), importances[indices],\n",
        "       color=\"g\", yerr=std[indices], align=\"center\")\n",
        "\n",
        "plt.xlim([-1, x_train.shape[1]])\n",
        "plt.show()"
      ],
      "metadata": {
        "colab": {
          "base_uri": "https://localhost:8080/",
          "height": 772
        },
        "id": "-Q4FUjrd53hG",
        "outputId": "151cd8fb-fb6c-43ac-a117-396ea729c744"
      },
      "execution_count": 57,
      "outputs": [
        {
          "output_type": "display_data",
          "data": {
            "text/plain": [
              "<Figure size 1008x936 with 1 Axes>"
            ],
            "image/png": "[encoded data removed]"
          },
          "metadata": {}
        }
      ]
    },
    {
      "cell_type": "code",
      "source": [
        "from sklearn.model_selection import train_test_split\n",
        "X_train, X_test, y_train, y_test = train_test_split(X_new, data['Malware'], test_size=0.2, random_state=0)"
      ],
      "metadata": {
        "id": "YD1i5hrUVti9"
      },
      "execution_count": 58,
      "outputs": []
    },
    {
      "cell_type": "markdown",
      "source": [
        "### Creating Model using RandonForestClassifier"
      ],
      "metadata": {
        "id": "1iyGX-g8WGgr"
      }
    },
    {
      "cell_type": "code",
      "source": [
        "from sklearn.ensemble import RandomForestClassifier\n",
        "\n",
        "\n",
        "\n",
        "rfc = RandomForestClassifier(n_estimators=100, random_state=0, \n",
        "                         oob_score = True,\n",
        "                         max_depth = 16)\n",
        "rfc.fit(X_train, y_train)\n",
        "\n",
        "\n",
        "\n",
        "\n",
        "\n",
        "\n",
        "\n",
        "\n",
        "\n",
        "\n"
      ],
      "metadata": {
        "colab": {
          "base_uri": "https://localhost:8080/"
        },
        "id": "dxDBR_noVdQq",
        "outputId": "b90cbc56-af04-4ef6-dac5-13427338db45"
      },
      "execution_count": 59,
      "outputs": [
        {
          "output_type": "execute_result",
          "data": {
            "text/plain": [
              "RandomForestClassifier(max_depth=16, oob_score=True, random_state=0)"
            ]
          },
          "metadata": {},
          "execution_count": 59
        }
      ]
    },
    {
      "cell_type": "code",
      "source": [
        "from sklearn.neighbors import KNeighborsClassifier\n",
        "error_rate=[]\n",
        "for i in range(1,40):\n",
        "    knn=KNeighborsClassifier(n_neighbors=i)\n",
        "    knn.fit(X_train,y_train)\n",
        "    pred=knn.predict(X_test)\n",
        "    error_rate.append(np.mean(pred!=y_test))\n",
        "\n",
        "plt.figure(figsize=(10,6))\n",
        "plt.plot(range(1,40),error_rate,linestyle='--',color='blue', marker='o',markerfacecolor='red',markersize=10)\n",
        "plt.title('Error Rate vs K Value')\n",
        "plt.xlabel('K')\n",
        "plt.ylabel('Error Rate')"
      ],
      "metadata": {
        "colab": {
          "base_uri": "https://localhost:8080/",
          "height": 425
        },
        "id": "sRt8JJ2Ai-kC",
        "outputId": "d9ba8ecc-d1f8-4285-88e6-662fef9a448f"
      },
      "execution_count": 60,
      "outputs": [
        {
          "output_type": "execute_result",
          "data": {
            "text/plain": [
              "Text(0, 0.5, 'Error Rate')"
            ]
          },
          "metadata": {},
          "execution_count": 60
        },
        {
          "output_type": "display_data",
          "data": {
            "text/plain": [
              "<Figure size 720x432 with 1 Axes>"
            ],
            "image/png": "[encoded data removed]"
          },
          "metadata": {}
        }
      ]
    },
    {
      "cell_type": "markdown",
      "source": [
        "### Results"
      ],
      "metadata": {
        "id": "d6gDIrxFWoIu"
      }
    },
    {
      "cell_type": "code",
      "source": [
        "knn = KNeighborsClassifier(n_neighbors=1)\n",
        "\n",
        "knn.fit(X_train,y_train)\n",
        "y_pred2 = knn.predict(X_test)\n",
        "\n",
        "\n",
        "\n",
        "\n",
        "rfc = RandomForestClassifier(n_estimators=100, random_state=0, \n",
        "                         oob_score = True,\n",
        "                         max_depth = 16)\n",
        "rfc.fit(X_train, y_train)\n",
        "\n",
        "y_pred = rfc.predict(X_test)\n",
        "\n"
      ],
      "metadata": {
        "id": "RNdQyWGeWmOG"
      },
      "execution_count": 61,
      "outputs": []
    },
    {
      "cell_type": "markdown",
      "source": [
        "## **Result for Simple-KNN**"
      ],
      "metadata": {
        "id": "EcdwtcybhXs6"
      }
    },
    {
      "cell_type": "code",
      "source": [
        "from sklearn import metrics\n",
        "ac2= metrics.accuracy_score(y_test,y_pred2)\n",
        "ac2"
      ],
      "metadata": {
        "colab": {
          "base_uri": "https://localhost:8080/"
        },
        "id": "TSw3Ke1UX0kz",
        "outputId": "aa6f6d4b-ec88-48d8-867d-2a4984af10fe"
      },
      "execution_count": 62,
      "outputs": [
        {
          "output_type": "execute_result",
          "data": {
            "text/plain": [
              "0.9686464440479226"
            ]
          },
          "metadata": {},
          "execution_count": 62
        }
      ]
    },
    {
      "cell_type": "markdown",
      "source": [
        "## **Result for RandomForest**"
      ],
      "metadata": {
        "id": "jHp4oSmxs_jL"
      }
    },
    {
      "cell_type": "code",
      "source": [
        "ac= metrics.accuracy_score(y_test,y_pred)\n",
        "ac"
      ],
      "metadata": {
        "colab": {
          "base_uri": "https://localhost:8080/"
        },
        "id": "1DePLXHZs_Kb",
        "outputId": "94b61f81-770e-4d6d-a809-1da48059c119"
      },
      "execution_count": 63,
      "outputs": [
        {
          "output_type": "execute_result",
          "data": {
            "text/plain": [
              "0.9839408615855213"
            ]
          },
          "metadata": {},
          "execution_count": 63
        }
      ]
    }
  ]
}